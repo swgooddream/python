{
 "cells": [
  {
   "cell_type": "markdown",
   "id": "d2b648dd",
   "metadata": {},
   "source": [
    "## python test"
   ]
  },
  {
   "cell_type": "code",
   "execution_count": 1,
   "id": "9c8aef81",
   "metadata": {},
   "outputs": [
    {
     "name": "stdout",
     "output_type": "stream",
     "text": [
      "Hello~ Python!!!\n"
     ]
    }
   ],
   "source": [
    "print('Hello~ Python!!!')"
   ]
  }
 ],
 "metadata": {
  "kernelspec": {
   "display_name": "Python 3 (ipykernel)",
   "language": "python",
   "name": "python3"
  },
  "language_info": {
   "codemirror_mode": {
    "name": "ipython",
    "version": 3
   },
   "file_extension": ".py",
   "mimetype": "text/x-python",
   "name": "python",
   "nbconvert_exporter": "python",
   "pygments_lexer": "ipython3",
   "version": "3.7.6"
  }
 },
 "nbformat": 4,
 "nbformat_minor": 5
}
